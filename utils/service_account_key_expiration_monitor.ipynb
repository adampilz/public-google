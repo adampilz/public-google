{
 "cells": [
  {
   "cell_type": "code",
   "execution_count": null,
   "id": "2ec765e5-4dff-4e76-abc9-5beea457cc31",
   "metadata": {},
   "outputs": [],
   "source": []
  },
  {
   "cell_type": "code",
   "execution_count": 1,
   "id": "86053f32-9c32-4173-a34a-4767f1050b44",
   "metadata": {},
   "outputs": [],
   "source": [
    "import google.auth\n",
    "from googleapiclient.discovery import build\n",
    "import datetime"
   ]
  },
  {
   "cell_type": "code",
   "execution_count": null,
   "id": "4180ecdb-49ce-43d6-a059-8af4cef77b33",
   "metadata": {},
   "outputs": [],
   "source": [
    "P = ! gcloud config list --format 'value(core.project)'\n",
    "PROJECT_ID = P[0]\n",
    "PROJECT_ID"
   ]
  },
  {
   "cell_type": "code",
   "execution_count": 10,
   "id": "02ef3863-6074-48db-92fd-97526c59420b",
   "metadata": {},
   "outputs": [],
   "source": [
    "def service_account_key_expiration_monitor(PROJECT_ID):\n",
    "    credentials, project = google.auth.default()\n",
    "    service = build('iam', 'v1', credentials=credentials)\n",
    "\n",
    "    now = datetime.datetime.utcnow().date()\n",
    "    alert_threshold = (now + datetime.timedelta(days=90))\n",
    "\n",
    "    # List service accounts in the project\n",
    "    accounts = service.projects().serviceAccounts().list(name=f'projects/{PROJECT_ID}').execute()\n",
    "\n",
    "    expiring_keys = []\n",
    "\n",
    "    for account in accounts.get('accounts', []):\n",
    "        # List keys for each service account\n",
    "        keys = service.projects().serviceAccounts().keys().list(name=account['name']).execute()\n",
    "\n",
    "        for key in keys.get('keys', []):\n",
    "            valid_before_time = datetime.datetime.strptime(key['validBeforeTime'], '%Y-%m-%dT%H:%M:%SZ').date()\n",
    "\n",
    "            if valid_before_time <= alert_threshold:\n",
    "                message = f\"Service account key {key['name']} will expire on {valid_before_time}.\"\n",
    "                expiring_keys.append(message)\n",
    "\n",
    "    if expiring_keys:\n",
    "        return '\\n'.join(expiring_keys)\n",
    "    else:\n",
    "        return \"No keys are set to expire within the next 90 days.\""
   ]
  },
  {
   "cell_type": "code",
   "execution_count": 11,
   "id": "38a608c6-1d05-44a2-9470-fb8e5e3ca531",
   "metadata": {},
   "outputs": [
    {
     "data": {
      "text/plain": [
       "'No keys are set to expire within the next 90 days.'"
      ]
     },
     "execution_count": 11,
     "metadata": {},
     "output_type": "execute_result"
    }
   ],
   "source": [
    "service_account_key_expiration_monitor(PROJECT_ID)"
   ]
  },
  {
   "cell_type": "code",
   "execution_count": null,
   "id": "508eaca7-a818-437b-9966-4f6486ad2bde",
   "metadata": {},
   "outputs": [],
   "source": []
  }
 ],
 "metadata": {
  "environment": {
   "kernel": "conda-root-py",
   "name": "workbench-notebooks.m111",
   "type": "gcloud",
   "uri": "gcr.io/deeplearning-platform-release/workbench-notebooks:m111"
  },
  "kernelspec": {
   "display_name": "Python 3",
   "language": "python",
   "name": "conda-root-py"
  },
  "language_info": {
   "codemirror_mode": {
    "name": "ipython",
    "version": 3
   },
   "file_extension": ".py",
   "mimetype": "text/x-python",
   "name": "python",
   "nbconvert_exporter": "python",
   "pygments_lexer": "ipython3",
   "version": "3.10.12"
  }
 },
 "nbformat": 4,
 "nbformat_minor": 5
}
