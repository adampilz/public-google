{
 "cells": [
  {
   "cell_type": "code",
   "execution_count": null,
   "id": "714a5963-e1ec-436c-b1ac-d6739d011818",
   "metadata": {},
   "outputs": [],
   "source": []
  },
  {
   "cell_type": "code",
   "execution_count": null,
   "id": "7b710182-342d-4d44-b3f3-2aa489564064",
   "metadata": {},
   "outputs": [],
   "source": [
    "! pip install --upgrade google-cloud-compute -U -q --user"
   ]
  },
  {
   "cell_type": "code",
   "execution_count": null,
   "id": "96572caa-fbf0-4e16-b941-a68cca51b622",
   "metadata": {},
   "outputs": [],
   "source": [
    "from google.cloud import compute_v1"
   ]
  },
  {
   "cell_type": "code",
   "execution_count": null,
   "id": "e7689bca-f636-4f35-9abd-2986f18515b2",
   "metadata": {},
   "outputs": [],
   "source": [
    "# set some parameters\n",
    "P = ! gcloud config list --format 'value(core.project)'\n",
    "PROJECT_ID = P[0]\n",
    "ZONE = \"us-central1-a\"\n",
    "PROJECT_ID"
   ]
  },
  {
   "cell_type": "code",
   "execution_count": null,
   "id": "a9956ac2-0504-405e-960d-be215d2b65f8",
   "metadata": {},
   "outputs": [],
   "source": [
    "def sample_list(PROJECT_ID, ZONE):\n",
    "    # Create a client\n",
    "    client = compute_v1.DisksClient()\n",
    "\n",
    "    # Initialize request argument(s)\n",
    "    request = compute_v1.ListDisksRequest(\n",
    "        project=PROJECT_ID,\n",
    "        zone=ZONE,\n",
    "    )\n",
    "\n",
    "    # Make the request\n",
    "    page_result = client.list(request=request)\n",
    "    return [page for page in page_result]"
   ]
  },
  {
   "cell_type": "code",
   "execution_count": null,
   "id": "85b4ce9a-6d18-41f9-9841-b8ff0ef6fd7d",
   "metadata": {},
   "outputs": [],
   "source": [
    "disks = sample_list(PROJECT_ID, ZONE)"
   ]
  },
  {
   "cell_type": "code",
   "execution_count": null,
   "id": "fb361fa3-6362-4f82-bb1b-4b10c2800f8f",
   "metadata": {},
   "outputs": [],
   "source": [
    "for disk in disks:\n",
    "    if len(disk.users) == 0:\n",
    "        print(disk)"
   ]
  }
 ],
 "metadata": {
  "environment": {
   "kernel": "conda-root-py",
   "name": "workbench-notebooks.m111",
   "type": "gcloud",
   "uri": "gcr.io/deeplearning-platform-release/workbench-notebooks:m111"
  },
  "kernelspec": {
   "display_name": "Python 3",
   "language": "python",
   "name": "conda-root-py"
  },
  "language_info": {
   "codemirror_mode": {
    "name": "ipython",
    "version": 3
   },
   "file_extension": ".py",
   "mimetype": "text/x-python",
   "name": "python",
   "nbconvert_exporter": "python",
   "pygments_lexer": "ipython3",
   "version": "3.10.12"
  }
 },
 "nbformat": 4,
 "nbformat_minor": 5
}
