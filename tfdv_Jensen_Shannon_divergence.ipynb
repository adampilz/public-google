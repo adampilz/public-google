{
 "cells": [
  {
   "cell_type": "code",
   "execution_count": null,
   "id": "725be3c8-5cee-4981-af91-f700c386febf",
   "metadata": {},
   "outputs": [],
   "source": [
    "# user managed notebook = TensorFlow Enterprise 2.6 withou GPU\n",
    "# install tfdv running this in terminal: pip install --user tensorflow-data-validation\n",
    "# if data lives in GCS: pip install --user 'google.cloud.storage==1.44.0'"
   ]
  },
  {
   "cell_type": "code",
   "execution_count": null,
   "id": "cb6e6b41-48eb-4c6d-a0fa-a11d5ee69082",
   "metadata": {},
   "outputs": [],
   "source": [
    "import tensorflow as tf\n",
    "import tensorflow_data_validation as tfdv\n",
    "from tensorflow_data_validation.utils import slicing_util\n",
    "\n",
    "import pandas as pd\n",
    "import numpy as np\n",
    "from sklearn.datasets import make_classification\n",
    "from google.cloud import storage"
   ]
  },
  {
   "cell_type": "code",
   "execution_count": 2,
   "id": "569262c5-c9d7-454f-a76d-e2332f7dd0fa",
   "metadata": {},
   "outputs": [],
   "source": [
    "#####################################################################\n",
    "#\n",
    "# if your data is in GCS....\n",
    "#\n",
    "#####################################################################"
   ]
  },
  {
   "cell_type": "code",
   "execution_count": 3,
   "id": "cec7dfc5-ffad-4f78-bb39-eb03a6c30c91",
   "metadata": {},
   "outputs": [
    {
     "name": "stdout",
     "output_type": "stream",
     "text": [
      "Downloaded blob tabular_binary_class_even_split_slim.csv to tabular_binary_class_even_split_slim.csv.\n"
     ]
    }
   ],
   "source": [
    "# set params\n",
    "PROJECT_ID = \"my-project\"\n",
    "GCS_BUCKET = \"my-bucket\"\n",
    "REGION = \"us-central1\"\n",
    "\n",
    "# get training data\n",
    "gcs_client = storage.Client(project=PROJECT_ID)\n",
    "bucket = gcs_client.get_bucket(GCS_BUCKET)\n",
    "blob_name = \"tabular_binary_class_even_split_slim.csv\"\n",
    "blob = bucket.blob(blob_name)\n",
    "blob.download_to_filename(blob_name)\n",
    "\n",
    "print(\"Downloaded blob {} to {}.\".format(blob.name, blob_name))"
   ]
  },
  {
   "cell_type": "code",
   "execution_count": null,
   "id": "100f303b-3e54-42c8-9f07-33bb171e1f20",
   "metadata": {},
   "outputs": [],
   "source": [
    "#####################################################################\n",
    "#\n",
    "# for this exercise, generate synthetic data using sklearn\n",
    "#\n",
    "#####################################################################"
   ]
  },
  {
   "cell_type": "code",
   "execution_count": 2,
   "id": "4078857b-3c96-4dbc-9610-42aef4a6774e",
   "metadata": {},
   "outputs": [
    {
     "data": {
      "text/plain": [
       "'x_0,x_1,x_2,x_3,x_4,label'"
      ]
     },
     "execution_count": 2,
     "metadata": {},
     "output_type": "execute_result"
    }
   ],
   "source": [
    "# create \"training\" data\n",
    "x, y = make_classification(n_classes=2\n",
    "                           , n_samples=10000\n",
    "                           , n_features=5\n",
    "                           , n_informative=5\n",
    "                           , n_redundant=0\n",
    "                           , n_repeated=0\n",
    "                           , random_state=34098)\n",
    "\n",
    "training_data = np.concatenate((x, y[:,None]), axis=1)\n",
    "num_cols = x.shape[1]\n",
    "col_names = ','.join([f\"x_{i}\" for i in range(num_cols)] + ['label'])\n",
    "col_names"
   ]
  },
  {
   "cell_type": "code",
   "execution_count": 3,
   "id": "d4f59a60-5a8a-4be3-91df-6a14fd41c337",
   "metadata": {},
   "outputs": [],
   "source": [
    "# save training data to csv\n",
    "train_data_file = 'train.csv'\n",
    "np.savetxt( train_data_file\n",
    "           , training_data\n",
    "           , delimiter=','\n",
    "           , fmt='%f'\n",
    "           , header=col_names\n",
    "           , comments=\"\")"
   ]
  },
  {
   "cell_type": "code",
   "execution_count": 4,
   "id": "31c635f4-1845-4152-82d7-90d7c9118c75",
   "metadata": {},
   "outputs": [
    {
     "name": "stdout",
     "output_type": "stream",
     "text": [
      "x_0,x_1,x_2,x_3,x_4\n"
     ]
    }
   ],
   "source": [
    "# generate synthetic eval data from a totally diff distribution\n",
    "eval_data_file = 'eval.csv'\n",
    "\n",
    "eval_data = np.random.rand(10000,5)+100\n",
    "\n",
    "num_cols = eval_data.shape[1]\n",
    "col_names = ','.join([f\"x_{i}\" for i in range(num_cols)])\n",
    "print(col_names)\n",
    "\n",
    "np.savetxt(  eval_data_file\n",
    "           , eval_data\n",
    "           , delimiter=','\n",
    "           , fmt='%f'\n",
    "           , header=col_names\n",
    "           , comments=\"\")"
   ]
  },
  {
   "cell_type": "code",
   "execution_count": 5,
   "id": "bb3f00d3-107e-4fe9-ba88-3b1c37d62864",
   "metadata": {},
   "outputs": [],
   "source": [
    "TRAIN_DATA = train_data_file\n",
    "EVAL_DATA = eval_data_file"
   ]
  },
  {
   "cell_type": "code",
   "execution_count": null,
   "id": "194e75c5-d897-45b9-808d-436455d3464d",
   "metadata": {},
   "outputs": [],
   "source": [
    "train_stats = tfdv.generate_statistics_from_csv(data_location=TRAIN_DATA)"
   ]
  },
  {
   "cell_type": "code",
   "execution_count": 7,
   "id": "82f4b0a6-8c87-461d-b056-6ed02afc1f82",
   "metadata": {},
   "outputs": [
    {
     "data": {
      "text/html": [
       "<iframe id='facets-iframe' width=\"100%\" height=\"500px\"></iframe>\n",
       "        <script>\n",
       "        facets_iframe = document.getElementById('facets-iframe');\n",
       "        facets_html = '<script src=\"https://cdnjs.cloudflare.com/ajax/libs/webcomponentsjs/1.3.3/webcomponents-lite.js\"><\\/script><link rel=\"import\" href=\"https://raw.githubusercontent.com/PAIR-code/facets/master/facets-dist/facets-jupyter.html\"><facets-overview proto-input=\"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\"></facets-overview>';\n",
       "        facets_iframe.srcdoc = facets_html;\n",
       "         facets_iframe.id = \"\";\n",
       "         setTimeout(() => {\n",
       "           facets_iframe.setAttribute('height', facets_iframe.contentWindow.document.body.offsetHeight + 'px')\n",
       "         }, 1500)\n",
       "         </script>"
      ],
      "text/plain": [
       "<IPython.core.display.HTML object>"
      ]
     },
     "metadata": {},
     "output_type": "display_data"
    }
   ],
   "source": [
    "tfdv.visualize_statistics(train_stats)"
   ]
  },
  {
   "cell_type": "code",
   "execution_count": 8,
   "id": "e6a79566-43cb-4f43-8691-d7aeec9fbfb2",
   "metadata": {},
   "outputs": [
    {
     "data": {
      "text/html": [
       "<div>\n",
       "<style scoped>\n",
       "    .dataframe tbody tr th:only-of-type {\n",
       "        vertical-align: middle;\n",
       "    }\n",
       "\n",
       "    .dataframe tbody tr th {\n",
       "        vertical-align: top;\n",
       "    }\n",
       "\n",
       "    .dataframe thead th {\n",
       "        text-align: right;\n",
       "    }\n",
       "</style>\n",
       "<table border=\"1\" class=\"dataframe\">\n",
       "  <thead>\n",
       "    <tr style=\"text-align: right;\">\n",
       "      <th></th>\n",
       "      <th>Type</th>\n",
       "      <th>Presence</th>\n",
       "      <th>Valency</th>\n",
       "      <th>Domain</th>\n",
       "    </tr>\n",
       "    <tr>\n",
       "      <th>Feature name</th>\n",
       "      <th></th>\n",
       "      <th></th>\n",
       "      <th></th>\n",
       "      <th></th>\n",
       "    </tr>\n",
       "  </thead>\n",
       "  <tbody>\n",
       "    <tr>\n",
       "      <th>'x_0'</th>\n",
       "      <td>FLOAT</td>\n",
       "      <td>required</td>\n",
       "      <td></td>\n",
       "      <td>-</td>\n",
       "    </tr>\n",
       "    <tr>\n",
       "      <th>'x_1'</th>\n",
       "      <td>FLOAT</td>\n",
       "      <td>required</td>\n",
       "      <td></td>\n",
       "      <td>-</td>\n",
       "    </tr>\n",
       "    <tr>\n",
       "      <th>'x_2'</th>\n",
       "      <td>FLOAT</td>\n",
       "      <td>required</td>\n",
       "      <td></td>\n",
       "      <td>-</td>\n",
       "    </tr>\n",
       "    <tr>\n",
       "      <th>'x_3'</th>\n",
       "      <td>FLOAT</td>\n",
       "      <td>required</td>\n",
       "      <td></td>\n",
       "      <td>-</td>\n",
       "    </tr>\n",
       "    <tr>\n",
       "      <th>'x_4'</th>\n",
       "      <td>FLOAT</td>\n",
       "      <td>required</td>\n",
       "      <td></td>\n",
       "      <td>-</td>\n",
       "    </tr>\n",
       "    <tr>\n",
       "      <th>'label'</th>\n",
       "      <td>FLOAT</td>\n",
       "      <td>required</td>\n",
       "      <td></td>\n",
       "      <td>-</td>\n",
       "    </tr>\n",
       "  </tbody>\n",
       "</table>\n",
       "</div>"
      ],
      "text/plain": [
       "               Type  Presence Valency Domain\n",
       "Feature name                                \n",
       "'x_0'         FLOAT  required              -\n",
       "'x_1'         FLOAT  required              -\n",
       "'x_2'         FLOAT  required              -\n",
       "'x_3'         FLOAT  required              -\n",
       "'x_4'         FLOAT  required              -\n",
       "'label'       FLOAT  required              -"
      ]
     },
     "metadata": {},
     "output_type": "display_data"
    }
   ],
   "source": [
    "# generate schema from training data\n",
    "schema = tfdv.infer_schema(statistics=train_stats)\n",
    "tfdv.display_schema(schema=schema)"
   ]
  },
  {
   "cell_type": "code",
   "execution_count": 9,
   "id": "17a86264-7cdc-46e3-b6ac-b34fd0852281",
   "metadata": {},
   "outputs": [],
   "source": [
    "# Compute stats for evaluation data\n",
    "eval_stats = tfdv.generate_statistics_from_csv(data_location=EVAL_DATA)"
   ]
  },
  {
   "cell_type": "code",
   "execution_count": 10,
   "id": "f6d85abf-b5fe-4576-bfc1-002df6cffa7e",
   "metadata": {},
   "outputs": [
    {
     "data": {
      "text/html": [
       "<iframe id='facets-iframe' width=\"100%\" height=\"500px\"></iframe>\n",
       "        <script>\n",
       "        facets_iframe = document.getElementById('facets-iframe');\n",
       "        facets_html = '<script src=\"https://cdnjs.cloudflare.com/ajax/libs/webcomponentsjs/1.3.3/webcomponents-lite.js\"><\\/script><link rel=\"import\" href=\"https://raw.githubusercontent.com/PAIR-code/facets/master/facets-dist/facets-jupyter.html\"><facets-overview proto-input=\"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\"></facets-overview>';\n",
       "        facets_iframe.srcdoc = facets_html;\n",
       "         facets_iframe.id = \"\";\n",
       "         setTimeout(() => {\n",
       "           facets_iframe.setAttribute('height', facets_iframe.contentWindow.document.body.offsetHeight + 'px')\n",
       "         }, 1500)\n",
       "         </script>"
      ],
      "text/plain": [
       "<IPython.core.display.HTML object>"
      ]
     },
     "metadata": {},
     "output_type": "display_data"
    }
   ],
   "source": [
    "# Compare evaluation data with training data\n",
    "tfdv.visualize_statistics(lhs_statistics=eval_stats, rhs_statistics=train_stats,\n",
    "                          lhs_name='EVAL_DATASET', rhs_name='TRAIN_DATASET')"
   ]
  },
  {
   "cell_type": "code",
   "execution_count": null,
   "id": "9e03e533-4849-493c-b228-9c49981854fc",
   "metadata": {},
   "outputs": [],
   "source": [
    "#####################################################################\n",
    "#\n",
    "#  Schema validation\n",
    "#\n",
    "#####################################################################"
   ]
  },
  {
   "cell_type": "code",
   "execution_count": 11,
   "id": "b2f07a91-8dcf-41a9-a068-116a6d137619",
   "metadata": {},
   "outputs": [
    {
     "data": {
      "text/html": [
       "<div>\n",
       "<style scoped>\n",
       "    .dataframe tbody tr th:only-of-type {\n",
       "        vertical-align: middle;\n",
       "    }\n",
       "\n",
       "    .dataframe tbody tr th {\n",
       "        vertical-align: top;\n",
       "    }\n",
       "\n",
       "    .dataframe thead th {\n",
       "        text-align: right;\n",
       "    }\n",
       "</style>\n",
       "<table border=\"1\" class=\"dataframe\">\n",
       "  <thead>\n",
       "    <tr style=\"text-align: right;\">\n",
       "      <th></th>\n",
       "      <th>Anomaly short description</th>\n",
       "      <th>Anomaly long description</th>\n",
       "    </tr>\n",
       "    <tr>\n",
       "      <th>Feature name</th>\n",
       "      <th></th>\n",
       "      <th></th>\n",
       "    </tr>\n",
       "  </thead>\n",
       "  <tbody>\n",
       "    <tr>\n",
       "      <th>'label'</th>\n",
       "      <td>Column dropped</td>\n",
       "      <td>Column is completely missing</td>\n",
       "    </tr>\n",
       "  </tbody>\n",
       "</table>\n",
       "</div>"
      ],
      "text/plain": [
       "             Anomaly short description      Anomaly long description\n",
       "Feature name                                                        \n",
       "'label'                 Column dropped  Column is completely missing"
      ]
     },
     "metadata": {},
     "output_type": "display_data"
    }
   ],
   "source": [
    "# Check eval data for errors by validating against previously inferred schema.\n",
    "anomalies = tfdv.validate_statistics(statistics=eval_stats, schema=schema)\n",
    "tfdv.display_anomalies(anomalies)"
   ]
  },
  {
   "cell_type": "code",
   "execution_count": null,
   "id": "1d720a09-0cc0-433f-b46d-b71bf51f5ec7",
   "metadata": {},
   "outputs": [],
   "source": [
    "#####################################################################\n",
    "#\n",
    "#  Jensen-Shannon divergence: Drift\n",
    "#\n",
    "#####################################################################"
   ]
  },
  {
   "cell_type": "code",
   "execution_count": 12,
   "id": "74483590-fd11-4322-973d-385f8de84583",
   "metadata": {},
   "outputs": [
    {
     "data": {
      "text/html": [
       "<h4 style=\"color:green;\">No anomalies found.</h4>"
      ],
      "text/plain": [
       "<IPython.core.display.HTML object>"
      ]
     },
     "metadata": {},
     "output_type": "display_data"
    }
   ],
   "source": [
    "# with no comparators set, no anomalies are detected\n",
    "skew_anomalies = tfdv.validate_statistics(train_stats, schema, previous_statistics=eval_stats)\n",
    "tfdv.display_anomalies(skew_anomalies)"
   ]
  },
  {
   "cell_type": "code",
   "execution_count": 13,
   "id": "db301476-f4cf-4167-abf7-681c37dba99f",
   "metadata": {},
   "outputs": [
    {
     "data": {
      "text/html": [
       "<div>\n",
       "<style scoped>\n",
       "    .dataframe tbody tr th:only-of-type {\n",
       "        vertical-align: middle;\n",
       "    }\n",
       "\n",
       "    .dataframe tbody tr th {\n",
       "        vertical-align: top;\n",
       "    }\n",
       "\n",
       "    .dataframe thead th {\n",
       "        text-align: right;\n",
       "    }\n",
       "</style>\n",
       "<table border=\"1\" class=\"dataframe\">\n",
       "  <thead>\n",
       "    <tr style=\"text-align: right;\">\n",
       "      <th></th>\n",
       "      <th>Anomaly short description</th>\n",
       "      <th>Anomaly long description</th>\n",
       "    </tr>\n",
       "    <tr>\n",
       "      <th>Feature name</th>\n",
       "      <th></th>\n",
       "      <th></th>\n",
       "    </tr>\n",
       "  </thead>\n",
       "  <tbody>\n",
       "    <tr>\n",
       "      <th>'x_0'</th>\n",
       "      <td>High approximate Jensen-Shannon divergence between current and previous</td>\n",
       "      <td>The approximate Jensen-Shannon divergence between current and previous is 1 (up to six significant digits), above the threshold 0.001.</td>\n",
       "    </tr>\n",
       "  </tbody>\n",
       "</table>\n",
       "</div>"
      ],
      "text/plain": [
       "                                                            Anomaly short description  \\\n",
       "Feature name                                                                            \n",
       "'x_0'         High approximate Jensen-Shannon divergence between current and previous   \n",
       "\n",
       "                                                                                                                            Anomaly long description  \n",
       "Feature name                                                                                                                                          \n",
       "'x_0'         The approximate Jensen-Shannon divergence between current and previous is 1 (up to six significant digits), above the threshold 0.001.  "
      ]
     },
     "metadata": {},
     "output_type": "display_data"
    }
   ],
   "source": [
    "# set comparators for drift (current versus previous)\n",
    "x_0 = tfdv.get_feature(schema, 'x_0')\n",
    "x_0.drift_comparator.jensen_shannon_divergence.threshold = 0.001\n",
    "\n",
    "#note: previous_statistics in next line relates to drift_comparator above\n",
    "skew_anomalies = tfdv.validate_statistics(train_stats, schema, previous_statistics=eval_stats)\n",
    "tfdv.display_anomalies(skew_anomalies)"
   ]
  },
  {
   "cell_type": "code",
   "execution_count": 14,
   "id": "7ce0b3bd-868a-468b-8643-8d7742492bb3",
   "metadata": {},
   "outputs": [
    {
     "data": {
      "text/html": [
       "<div>\n",
       "<style scoped>\n",
       "    .dataframe tbody tr th:only-of-type {\n",
       "        vertical-align: middle;\n",
       "    }\n",
       "\n",
       "    .dataframe tbody tr th {\n",
       "        vertical-align: top;\n",
       "    }\n",
       "\n",
       "    .dataframe thead th {\n",
       "        text-align: right;\n",
       "    }\n",
       "</style>\n",
       "<table border=\"1\" class=\"dataframe\">\n",
       "  <thead>\n",
       "    <tr style=\"text-align: right;\">\n",
       "      <th></th>\n",
       "      <th>Anomaly short description</th>\n",
       "      <th>Anomaly long description</th>\n",
       "    </tr>\n",
       "    <tr>\n",
       "      <th>Feature name</th>\n",
       "      <th></th>\n",
       "      <th></th>\n",
       "    </tr>\n",
       "  </thead>\n",
       "  <tbody>\n",
       "    <tr>\n",
       "      <th>'x_4'</th>\n",
       "      <td>High approximate Jensen-Shannon divergence between current and previous</td>\n",
       "      <td>The approximate Jensen-Shannon divergence between current and previous is 1 (up to six significant digits), above the threshold 1e-05.</td>\n",
       "    </tr>\n",
       "    <tr>\n",
       "      <th>'x_2'</th>\n",
       "      <td>High approximate Jensen-Shannon divergence between current and previous</td>\n",
       "      <td>The approximate Jensen-Shannon divergence between current and previous is 1 (up to six significant digits), above the threshold 0.001.</td>\n",
       "    </tr>\n",
       "    <tr>\n",
       "      <th>'x_3'</th>\n",
       "      <td>High approximate Jensen-Shannon divergence between current and previous</td>\n",
       "      <td>The approximate Jensen-Shannon divergence between current and previous is 1 (up to six significant digits), above the threshold 0.0001.</td>\n",
       "    </tr>\n",
       "    <tr>\n",
       "      <th>'x_1'</th>\n",
       "      <td>High approximate Jensen-Shannon divergence between current and previous</td>\n",
       "      <td>The approximate Jensen-Shannon divergence between current and previous is 1 (up to six significant digits), above the threshold 0.1.</td>\n",
       "    </tr>\n",
       "  </tbody>\n",
       "</table>\n",
       "</div>"
      ],
      "text/plain": [
       "                                                            Anomaly short description  \\\n",
       "Feature name                                                                            \n",
       "'x_4'         High approximate Jensen-Shannon divergence between current and previous   \n",
       "'x_2'         High approximate Jensen-Shannon divergence between current and previous   \n",
       "'x_3'         High approximate Jensen-Shannon divergence between current and previous   \n",
       "'x_1'         High approximate Jensen-Shannon divergence between current and previous   \n",
       "\n",
       "                                                                                                                             Anomaly long description  \n",
       "Feature name                                                                                                                                           \n",
       "'x_4'          The approximate Jensen-Shannon divergence between current and previous is 1 (up to six significant digits), above the threshold 1e-05.  \n",
       "'x_2'          The approximate Jensen-Shannon divergence between current and previous is 1 (up to six significant digits), above the threshold 0.001.  \n",
       "'x_3'         The approximate Jensen-Shannon divergence between current and previous is 1 (up to six significant digits), above the threshold 0.0001.  \n",
       "'x_1'            The approximate Jensen-Shannon divergence between current and previous is 1 (up to six significant digits), above the threshold 0.1.  "
      ]
     },
     "metadata": {},
     "output_type": "display_data"
    }
   ],
   "source": [
    "# set comparators for drift (current versus previous)\n",
    "x_0 = tfdv.get_feature(schema, 'x_0')\n",
    "x_0.drift_comparator.jensen_shannon_divergence.threshold = 1.0\n",
    "\n",
    "x_1 = tfdv.get_feature(schema, 'x_1')\n",
    "x_1.drift_comparator.jensen_shannon_divergence.threshold = 0.1\n",
    "\n",
    "x_2 = tfdv.get_feature(schema, 'x_2')\n",
    "x_2.drift_comparator.jensen_shannon_divergence.threshold = 0.001\n",
    "\n",
    "x_3 = tfdv.get_feature(schema, 'x_3')\n",
    "x_3.drift_comparator.jensen_shannon_divergence.threshold = 0.0001\n",
    "\n",
    "x_4 = tfdv.get_feature(schema, 'x_4')\n",
    "x_4.drift_comparator.jensen_shannon_divergence.threshold = 0.00001\n",
    "\n",
    "skew_anomalies = tfdv.validate_statistics(train_stats, schema, previous_statistics=eval_stats)\n",
    "tfdv.display_anomalies(skew_anomalies)"
   ]
  },
  {
   "cell_type": "code",
   "execution_count": null,
   "id": "f36b165e-44f2-49d9-84c1-4d1c26bde55a",
   "metadata": {},
   "outputs": [],
   "source": [
    "#####################################################################\n",
    "#\n",
    "#  Jensen-Shannon divergence: Skew\n",
    "#\n",
    "#####################################################################"
   ]
  },
  {
   "cell_type": "code",
   "execution_count": 16,
   "id": "9edcd7db-f00a-4ee8-bf46-092596ca23d8",
   "metadata": {},
   "outputs": [
    {
     "data": {
      "text/html": [
       "<div>\n",
       "<style scoped>\n",
       "    .dataframe tbody tr th:only-of-type {\n",
       "        vertical-align: middle;\n",
       "    }\n",
       "\n",
       "    .dataframe tbody tr th {\n",
       "        vertical-align: top;\n",
       "    }\n",
       "\n",
       "    .dataframe thead th {\n",
       "        text-align: right;\n",
       "    }\n",
       "</style>\n",
       "<table border=\"1\" class=\"dataframe\">\n",
       "  <thead>\n",
       "    <tr style=\"text-align: right;\">\n",
       "      <th></th>\n",
       "      <th>Anomaly short description</th>\n",
       "      <th>Anomaly long description</th>\n",
       "    </tr>\n",
       "    <tr>\n",
       "      <th>Feature name</th>\n",
       "      <th></th>\n",
       "      <th></th>\n",
       "    </tr>\n",
       "  </thead>\n",
       "  <tbody>\n",
       "    <tr>\n",
       "      <th>'x_0'</th>\n",
       "      <td>High approximate Jensen-Shannon divergence between training and serving</td>\n",
       "      <td>The approximate Jensen-Shannon divergence between training and serving is 1 (up to six significant digits), above the threshold 0.001.</td>\n",
       "    </tr>\n",
       "  </tbody>\n",
       "</table>\n",
       "</div>"
      ],
      "text/plain": [
       "                                                            Anomaly short description  \\\n",
       "Feature name                                                                            \n",
       "'x_0'         High approximate Jensen-Shannon divergence between training and serving   \n",
       "\n",
       "                                                                                                                            Anomaly long description  \n",
       "Feature name                                                                                                                                          \n",
       "'x_0'         The approximate Jensen-Shannon divergence between training and serving is 1 (up to six significant digits), above the threshold 0.001.  "
      ]
     },
     "metadata": {},
     "output_type": "display_data"
    }
   ],
   "source": [
    "# set comparators for skew (training versus serving)\n",
    "x_0 = tfdv.get_feature(schema, 'x_0')\n",
    "x_0.skew_comparator.jensen_shannon_divergence.threshold = 0.001\n",
    "\n",
    "#note: serving_statistics in next line relates to skew_comparator above\n",
    "skew_anomalies = tfdv.validate_statistics(train_stats, schema, serving_statistics=eval_stats)\n",
    "tfdv.display_anomalies(skew_anomalies)"
   ]
  },
  {
   "cell_type": "code",
   "execution_count": 17,
   "id": "151d2f85-eade-409e-84a3-d0cf62d3abcc",
   "metadata": {},
   "outputs": [
    {
     "data": {
      "text/html": [
       "<div>\n",
       "<style scoped>\n",
       "    .dataframe tbody tr th:only-of-type {\n",
       "        vertical-align: middle;\n",
       "    }\n",
       "\n",
       "    .dataframe tbody tr th {\n",
       "        vertical-align: top;\n",
       "    }\n",
       "\n",
       "    .dataframe thead th {\n",
       "        text-align: right;\n",
       "    }\n",
       "</style>\n",
       "<table border=\"1\" class=\"dataframe\">\n",
       "  <thead>\n",
       "    <tr style=\"text-align: right;\">\n",
       "      <th></th>\n",
       "      <th>Anomaly short description</th>\n",
       "      <th>Anomaly long description</th>\n",
       "    </tr>\n",
       "    <tr>\n",
       "      <th>Feature name</th>\n",
       "      <th></th>\n",
       "      <th></th>\n",
       "    </tr>\n",
       "  </thead>\n",
       "  <tbody>\n",
       "    <tr>\n",
       "      <th>'x_1'</th>\n",
       "      <td>High approximate Jensen-Shannon divergence between training and serving</td>\n",
       "      <td>The approximate Jensen-Shannon divergence between training and serving is 1 (up to six significant digits), above the threshold 0.1.</td>\n",
       "    </tr>\n",
       "    <tr>\n",
       "      <th>'x_3'</th>\n",
       "      <td>High approximate Jensen-Shannon divergence between training and serving</td>\n",
       "      <td>The approximate Jensen-Shannon divergence between training and serving is 1 (up to six significant digits), above the threshold 0.0001.</td>\n",
       "    </tr>\n",
       "    <tr>\n",
       "      <th>'x_2'</th>\n",
       "      <td>High approximate Jensen-Shannon divergence between training and serving</td>\n",
       "      <td>The approximate Jensen-Shannon divergence between training and serving is 1 (up to six significant digits), above the threshold 0.001.</td>\n",
       "    </tr>\n",
       "    <tr>\n",
       "      <th>'x_4'</th>\n",
       "      <td>High approximate Jensen-Shannon divergence between training and serving</td>\n",
       "      <td>The approximate Jensen-Shannon divergence between training and serving is 1 (up to six significant digits), above the threshold 1e-05.</td>\n",
       "    </tr>\n",
       "  </tbody>\n",
       "</table>\n",
       "</div>"
      ],
      "text/plain": [
       "                                                            Anomaly short description  \\\n",
       "Feature name                                                                            \n",
       "'x_1'         High approximate Jensen-Shannon divergence between training and serving   \n",
       "'x_3'         High approximate Jensen-Shannon divergence between training and serving   \n",
       "'x_2'         High approximate Jensen-Shannon divergence between training and serving   \n",
       "'x_4'         High approximate Jensen-Shannon divergence between training and serving   \n",
       "\n",
       "                                                                                                                             Anomaly long description  \n",
       "Feature name                                                                                                                                           \n",
       "'x_1'            The approximate Jensen-Shannon divergence between training and serving is 1 (up to six significant digits), above the threshold 0.1.  \n",
       "'x_3'         The approximate Jensen-Shannon divergence between training and serving is 1 (up to six significant digits), above the threshold 0.0001.  \n",
       "'x_2'          The approximate Jensen-Shannon divergence between training and serving is 1 (up to six significant digits), above the threshold 0.001.  \n",
       "'x_4'          The approximate Jensen-Shannon divergence between training and serving is 1 (up to six significant digits), above the threshold 1e-05.  "
      ]
     },
     "metadata": {},
     "output_type": "display_data"
    }
   ],
   "source": [
    "# set comparators for skew (training versus serving)\n",
    "x_0 = tfdv.get_feature(schema, 'x_0')\n",
    "x_0.skew_comparator.jensen_shannon_divergence.threshold = 1.0\n",
    "\n",
    "x_1 = tfdv.get_feature(schema, 'x_1')\n",
    "x_1.skew_comparator.jensen_shannon_divergence.threshold = 0.1\n",
    "\n",
    "x_2 = tfdv.get_feature(schema, 'x_2')\n",
    "x_2.skew_comparator.jensen_shannon_divergence.threshold = 0.001\n",
    "\n",
    "x_3 = tfdv.get_feature(schema, 'x_3')\n",
    "x_3.skew_comparator.jensen_shannon_divergence.threshold = 0.0001\n",
    "\n",
    "x_4 = tfdv.get_feature(schema, 'x_4')\n",
    "x_4.skew_comparator.jensen_shannon_divergence.threshold = 0.00001\n",
    "\n",
    "#note: serving_statistics in next line relates to skew_comparator above\n",
    "skew_anomalies = tfdv.validate_statistics(train_stats, schema, serving_statistics=eval_stats)\n",
    "tfdv.display_anomalies(skew_anomalies)"
   ]
  }
 ],
 "metadata": {
  "environment": {
   "kernel": "python3",
   "name": "tf2-gpu.2-6.m95",
   "type": "gcloud",
   "uri": "gcr.io/deeplearning-platform-release/tf2-gpu.2-6:m95"
  },
  "kernelspec": {
   "display_name": "Python 3",
   "language": "python",
   "name": "python3"
  },
  "language_info": {
   "codemirror_mode": {
    "name": "ipython",
    "version": 3
   },
   "file_extension": ".py",
   "mimetype": "text/x-python",
   "name": "python",
   "nbconvert_exporter": "python",
   "pygments_lexer": "ipython3",
   "version": "3.7.12"
  }
 },
 "nbformat": 4,
 "nbformat_minor": 5
}
