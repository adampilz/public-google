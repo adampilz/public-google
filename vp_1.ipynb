{
 "cells": [
  {
   "cell_type": "code",
   "execution_count": null,
   "id": "014a9da3-9bef-450e-a1bb-a981c2a2a197",
   "metadata": {},
   "outputs": [],
   "source": [
    "# installs\n",
    "! pip3 install --user kfp google-cloud-pipeline-components --upgrade --quiet\n",
    "! pip3 install --upgrade google-cloud-aiplatform --user -q\n",
    "\n",
    "! python3 -c \"import kfp; print('KFP SDK version: {}'.format(kfp.__version__))\"\n",
    "! python3 -c \"import google_cloud_pipeline_components; print('google_cloud_pipeline_components version: {}'.format(google_cloud_pipeline_components.__version__))\""
   ]
  },
  {
   "cell_type": "code",
   "execution_count": null,
   "id": "1c49bd3d-23c2-4be6-8a79-81acde233e16",
   "metadata": {},
   "outputs": [],
   "source": [
    "### Now restart the notebook kernel\n",
    "# in the top toolbar:  \"Kernel\" -> \"Restart Kernel\""
   ]
  },
  {
   "cell_type": "code",
   "execution_count": null,
   "id": "4836951e-193d-42e8-b96d-6983496b6203",
   "metadata": {},
   "outputs": [],
   "source": [
    "#####################################################################\n",
    "#\n",
    "# setup\n",
    "#\n",
    "#####################################################################"
   ]
  },
  {
   "cell_type": "code",
   "execution_count": 2,
   "id": "b359d323-e636-40a9-a4e3-efb62985b92b",
   "metadata": {},
   "outputs": [],
   "source": [
    "# specify parameters\n",
    "PROJECT_ID = \"your-project-id\"\n",
    "REGION = \"us-central1\"\n",
    "BUCKET_NAME = f\"bkt-{PROJECT_ID}-vpipelines\"\n",
    "BUCKET_PATH = f\"gs://{BUCKET_NAME}\"\n",
    "PIPELINE_ROOT = f\"{BUCKET_PATH}/pipeline_root\"\n",
    "PIPELINE_DATA = f\"{BUCKET_PATH}/data\"\n",
    "TIMESTAMP = datetime.now().strftime(\"%Y%m%d%H%M%S\")"
   ]
  },
  {
   "cell_type": "code",
   "execution_count": null,
   "id": "de900673-1273-4747-afec-eba2baa6640c",
   "metadata": {},
   "outputs": [],
   "source": [
    "# imports for this notebook to run\n",
    "import sys\n",
    "from datetime import datetime\n",
    "from typing import NamedTuple\n",
    "\n",
    "from google.cloud import aiplatform as vertex\n",
    "\n",
    "import kfp\n",
    "from kfp.v2 import dsl, compiler\n",
    "from kfp.v2.dsl import (Artifact, Dataset, Input, InputPath, Model, Output, OutputPath, component)"
   ]
  },
  {
   "cell_type": "code",
   "execution_count": null,
   "id": "61027262-5296-451a-b584-570183c92398",
   "metadata": {},
   "outputs": [],
   "source": [
    "#####################################################################\n",
    "#\n",
    "# create needed resources\n",
    "#\n",
    "#####################################################################"
   ]
  },
  {
   "cell_type": "code",
   "execution_count": null,
   "id": "b27db316-adab-4394-9cd4-a21a70304913",
   "metadata": {},
   "outputs": [],
   "source": [
    "# check if bucket exists\n",
    "def check_bucket_existence(PROJECT_ID, BUCKET_PATH):\n",
    "    from google.cloud import storage\n",
    "    from google.cloud.storage import Bucket\n",
    "\n",
    "    client = storage.Client(project=PROJECT_ID)\n",
    "    exists = Bucket(client, BUCKET_PATH).exists()\n",
    "    return exists\n",
    "\n",
    "# create bucket if needed\n",
    "if check_bucket_existence(PROJECT_ID, BUCKET_NAME) == False:\n",
    "    ! gsutil mb -c standard -l $REGION -b on -p $PROJECT_ID $BUCKET_PATH\n",
    "    ! gsutil ls\n",
    "else:\n",
    "    print(f\"Bucket {BUCKET_NAME} already exists\")"
   ]
  },
  {
   "cell_type": "code",
   "execution_count": null,
   "id": "7349b68d-e46c-4740-b63c-9f595bc5558b",
   "metadata": {},
   "outputs": [],
   "source": [
    "#####################################################################\n",
    "# BEGIN vertex pipelines\n",
    "#####################################################################"
   ]
  },
  {
   "cell_type": "code",
   "execution_count": null,
   "id": "0ac0cb9b-0664-4778-81a3-d563b88f3db7",
   "metadata": {},
   "outputs": [],
   "source": [
    "#####################################################################\n",
    "#\n",
    "# create individual pipeline components, then specify the pipeline\n",
    "#\n",
    "#####################################################################"
   ]
  },
  {
   "cell_type": "code",
   "execution_count": 24,
   "id": "91449fad-c842-4f08-9b52-520726694452",
   "metadata": {},
   "outputs": [],
   "source": [
    "# create a custom component\n",
    "@component(base_image=\"python:3.9\", output_component_file=\"step_1.yaml\")\n",
    "\n",
    "#specify inputs, outputs, and component functionality\n",
    "def step_1(mystring: str # inputs and their expected types\n",
    "          ) -> NamedTuple(\"Outputs\", [ (\"mystring\", str) ] #outputs and their expected types\n",
    "                         ):    \n",
    "    # component functionality\n",
    "    mystring = mystring + ' world'\n",
    "    # any outputs to return\n",
    "    return (mystring,) # comma required bc an iterable is expected"
   ]
  },
  {
   "cell_type": "code",
   "execution_count": 25,
   "id": "c3e3526f-6add-4485-ab54-9d98f43b52f3",
   "metadata": {},
   "outputs": [],
   "source": [
    "# define a pipeline\n",
    "@dsl.pipeline(name=\"my-pipeline-name\", description=\"my pipeline description\")\n",
    "\n",
    "# specify all the inputs the pipeline needs to run\n",
    "def my_pipeline(mystr: str, project_id: str = PROJECT_ID):\n",
    "    \n",
    "    # specify the nodes in the pipeline\n",
    "    step_1_task = step_1(mystr)"
   ]
  },
  {
   "cell_type": "code",
   "execution_count": null,
   "id": "9cd8a46c-2fbf-495e-b25b-722586d5dbec",
   "metadata": {},
   "outputs": [],
   "source": [
    "#####################################################################\n",
    "#\n",
    "# compile and run the pipeline\n",
    "#\n",
    "#####################################################################"
   ]
  },
  {
   "cell_type": "code",
   "execution_count": 26,
   "id": "41dc81cd-bb4a-48d4-a63b-1a7427bcbf04",
   "metadata": {},
   "outputs": [],
   "source": [
    "# compile the pipeline\n",
    "my_package_path = 'my_vertex_pipeline_specification_file.json'\n",
    "compiler.Compiler().compile(pipeline_func=my_pipeline, package_path=my_package_path)"
   ]
  },
  {
   "cell_type": "code",
   "execution_count": 34,
   "id": "806cee43-c44e-4254-9316-bccb245b7e2d",
   "metadata": {},
   "outputs": [
    {
     "name": "stdout",
     "output_type": "stream",
     "text": [
      "Creating PipelineJob\n",
      "PipelineJob created. Resource name: projects/720376660491/locations/us-central1/pipelineJobs/my-pipeline-name-20220929192449\n",
      "To use this PipelineJob in another session:\n",
      "pipeline_job = aiplatform.PipelineJob.get('projects/720376660491/locations/us-central1/pipelineJobs/my-pipeline-name-20220929192449')\n",
      "View Pipeline Job:\n",
      "https://console.cloud.google.com/vertex-ai/locations/us-central1/pipelines/runs/my-pipeline-name-20220929192449?project=720376660491\n"
     ]
    }
   ],
   "source": [
    "# runtime parameters to pass to pipeline\n",
    "pipeline_params = {\n",
    "    \"project_id\": PROJECT_ID,\n",
    "    \"mystr\": \"hello\"\n",
    "}\n",
    "\n",
    "# run the pipeline\n",
    "vertex.init(project=PROJECT_ID)\n",
    "\n",
    "job = vertex.PipelineJob(\n",
    "    display_name = \"my-pipeline-job-name\",\n",
    "    template_path = my_package_path,\n",
    "    pipeline_root = PIPELINE_ROOT,\n",
    "    parameter_values = pipeline_params,\n",
    "    enable_caching = False\n",
    ")\n",
    "\n",
    "job.submit()"
   ]
  }
 ],
 "metadata": {
  "environment": {
   "kernel": "python3",
   "name": "common-cpu.m97",
   "type": "gcloud",
   "uri": "gcr.io/deeplearning-platform-release/base-cpu:m97"
  },
  "kernelspec": {
   "display_name": "Python 3",
   "language": "python",
   "name": "python3"
  },
  "language_info": {
   "codemirror_mode": {
    "name": "ipython",
    "version": 3
   },
   "file_extension": ".py",
   "mimetype": "text/x-python",
   "name": "python",
   "nbconvert_exporter": "python",
   "pygments_lexer": "ipython3",
   "version": "3.7.12"
  }
 },
 "nbformat": 4,
 "nbformat_minor": 5
}
