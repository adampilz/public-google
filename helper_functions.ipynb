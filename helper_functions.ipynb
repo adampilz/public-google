{
 "cells": [
  {
   "cell_type": "code",
   "execution_count": null,
   "id": "fc07e4d5-3ece-4698-b04a-e183dd0e567b",
   "metadata": {},
   "outputs": [],
   "source": []
  },
  {
   "cell_type": "code",
   "execution_count": null,
   "id": "f10db66b-83a4-4a7c-b87e-1ce5dc81414e",
   "metadata": {},
   "outputs": [],
   "source": [
    "# specify parameters\n",
    "U = ! gcloud auth list --filter=status:ACTIVE --format=\"value(account)\"\n",
    "USER = U[0]\n",
    "P = ! gcloud config list --format 'value(core.project)'\n",
    "PROJECT_ID = P[0]\n",
    "REGION = \"us-central1\"\n",
    "BUCKET_NAME = f\"bkt-{PROJECT_ID}-central1-data\"\n",
    "BUCKET_PATH = f\"gs://{BUCKET_NAME}\"\n",
    "PIPELINE_ROOT = f\"{BUCKET_PATH}/pipeline_root\"\n",
    "PIPELINE_DATA = f\"{BUCKET_PATH}/data\"\n",
    "TIMESTAMP = datetime.now().strftime(\"%Y%m%d%H%M%S\")"
   ]
  },
  {
   "cell_type": "code",
   "execution_count": 4,
   "id": "edbe92eb-65b8-41f9-9bcd-cb535e82ebc5",
   "metadata": {},
   "outputs": [
    {
     "name": "stdout",
     "output_type": "stream",
     "text": [
      "Downloaded blob tab_class_10inps_1krows_val_3498.csv to tab_class_10inps_1krows_val_3498.csv.\n"
     ]
    }
   ],
   "source": [
    "# download\n",
    "def download_file(PROJECT_ID, BUCKET_NAME, BLOB_NAME, OUTPUT_LOCAL_FILE_NAME):\n",
    "    from google.cloud import storage\n",
    "    client = storage.Client(project = PROJECT_ID)\n",
    "    bucket = client.get_bucket(BUCKET_NAME)\n",
    "    blob = bucket.get_blob(BLOB_NAME)\n",
    "    blob.download_to_filename(OUTPUT_LOCAL_FILE_NAME)\n",
    "    print(\"Downloaded blob {} to {}.\".format(blob.name, blob_name))\n",
    "\n",
    "download_file(PROJECT_ID, BUCKET_NAME, BLOB_NAME, OUTPUT_LOCAL_FILE_NAME)"
   ]
  },
  {
   "cell_type": "code",
   "execution_count": null,
   "id": "851a7f7d-8019-4e64-9dbc-f753dea4c077",
   "metadata": {},
   "outputs": [],
   "source": [
    "def upload_file(PROJECT_ID, BUCKET_NAME, BLOB_NAME, SOURCE_LOCAL_FILE_NAME):\n",
    "    from google.cloud import storage\n",
    "    client = storage.Client(project = PROJECT_ID)\n",
    "    bucket = client.get_bucket(BUCKET_NAME)\n",
    "    blob = bucket.get_blob(BLOB_NAME)\n",
    "    blob.upload_from_filename(OUTPUT_LOCAL_FILE_NAME)\n",
    "    print(\"Uploaded blob {} to {}.\".format(blob.name, blob_name))\n",
    "\n",
    "upload_file(PROJECT_ID, BUCKET_NAME, BLOB_NAME, SOURCE_LOCAL_FILE_NAME)"
   ]
  }
 ],
 "metadata": {
  "environment": {
   "kernel": "python3",
   "name": "common-cpu.m102",
   "type": "gcloud",
   "uri": "gcr.io/deeplearning-platform-release/base-cpu:m102"
  },
  "kernelspec": {
   "display_name": "Python 3",
   "language": "python",
   "name": "python3"
  },
  "language_info": {
   "codemirror_mode": {
    "name": "ipython",
    "version": 3
   },
   "file_extension": ".py",
   "mimetype": "text/x-python",
   "name": "python",
   "nbconvert_exporter": "python",
   "pygments_lexer": "ipython3",
   "version": "3.7.12"
  }
 },
 "nbformat": 4,
 "nbformat_minor": 5
}
