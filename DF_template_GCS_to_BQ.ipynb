{
 "cells": [
  {
   "cell_type": "code",
   "execution_count": null,
   "id": "32cd5a36-dd4a-486f-85d6-8b23a9f90f9d",
   "metadata": {},
   "outputs": [],
   "source": []
  },
  {
   "cell_type": "code",
   "execution_count": null,
   "id": "4882ae5b-5c57-4a11-bd2d-056299ec4460",
   "metadata": {},
   "outputs": [],
   "source": [
    "# set params\n",
    "P = ! gcloud config list --format 'value(core.project)'\n",
    "PROJECT_ID = P[0]\n",
    "REGION = \"us-central1\"\n",
    "SERVICE_ACCOUNT = f\"sa-vertex-pipelines@{PROJECT_ID}.iam.gserviceaccount.com\"\n",
    "NETWORK = \"vpc-adam-default\"\n",
    "\n",
    "USE_CASE = \"dataflow-demo\"\n",
    "\n",
    "# GCS source inputs\n",
    "GCS_BUCKET_NAME = f\"bkt-{REGION}-{USE_CASE}\"\n",
    "GCS_BUCKET_PATH = f\"gs://{GCS_BUCKET_NAME}\"\n",
    "GCS_BUCKET_PATH_DATA = f\"{GCS_BUCKET_PATH}/data/\"\n",
    "GCS_BUCKET_PATH_CONFIGS = f\"{GCS_BUCKET_PATH}/configs/\"\n",
    "GCS_BUCKET_PATH_TMP = f\"{GCS_BUCKET_PATH}/tmp\"\n",
    "GCS_BUCKET_PATH_STAGING = f\"{GCS_BUCKET_PATH}/staging\"\n",
    "\n",
    "# dataflow job inputs\n",
    "UDF_FILENAME = \"user_defined_function.js\"\n",
    "BQ_SCHEMA_FILENAME = \"bq_schema.json\"\n",
    "\n",
    "# BQ destination inputs\n",
    "BQ_DATASET = f\"ds_{REGION.replace('-','')}\"\n",
    "BQ_TABLE = f\"tb_{USE_CASE.replace('-','')}\"\n",
    "BQ_DESTINATION = f\"{BQ_DATASET}.{BQ_TABLE}\""
   ]
  },
  {
   "cell_type": "code",
   "execution_count": null,
   "id": "eb1fd7a7-ade0-4145-a267-9867b0d6aa15",
   "metadata": {},
   "outputs": [],
   "source": [
    "# create bucket\n",
    "! gsutil mb -p {PROJECT_ID} -c standard -l {REGION} {GCS_BUCKET_PATH}\n",
    "! gsutil ls -L -b {GCS_BUCKET_PATH}"
   ]
  },
  {
   "cell_type": "code",
   "execution_count": null,
   "id": "db6dbe53-bb3e-422d-88a4-1a42baef4796",
   "metadata": {},
   "outputs": [],
   "source": [
    "# create BQ table\n",
    "! bq rm --dataset --recursive=true --force=true {PROJECT_ID}:{BQ_DATASET}\n",
    "! bq mk --dataset --location={REGION} {PROJECT_ID}:{BQ_DATASET}\n",
    "####  ensure the schema named here matches the file you create below\n",
    "! bq mk --table {PROJECT_ID}:{BQ_DATASET}.{BQ_TABLE} ID:INTEGER,data:INTEGER"
   ]
  },
  {
   "cell_type": "code",
   "execution_count": null,
   "id": "5d8a008c-1e70-4374-89e1-08f9e1707c37",
   "metadata": {},
   "outputs": [],
   "source": [
    "#####################################################################\n",
    "#\n",
    "# generate example JSON files\n",
    "#\n",
    "#####################################################################"
   ]
  },
  {
   "cell_type": "code",
   "execution_count": null,
   "id": "604b5000-e553-4de2-aa6a-27ef212a5d68",
   "metadata": {},
   "outputs": [],
   "source": [
    "# generate some JSON files\n",
    "n_files =  10\n",
    "n_rows_per_file = 10\n",
    "\n",
    "# create and copy files to GCS\n",
    "num_files = [i for i in range(1, n_files)]\n",
    "file_pattern = f\"file_*.json\"\n",
    "for num in num_files:\n",
    "    myfile = file_pattern.replace(\"*\",str(num))\n",
    "    with open(myfile, 'w') as g:\n",
    "        for idx, i in enumerate(range(1, n_rows_per_file)):\n",
    "            k = {\"ID\" : idx, \"data\" : i}\n",
    "            g.write(json.dumps(k)+\"\\n\")\n",
    "    \n",
    "    # write file to GCS bucket            \n",
    "    GCS_FILE = GCS_BUCKET_PATH_DATA + myfile\n",
    "    ! gsutil cp {myfile} {GCS_FILE}\n",
    "\n",
    "# view a file\n",
    "! head file_1.json"
   ]
  },
  {
   "cell_type": "code",
   "execution_count": null,
   "id": "556b2b46-b28d-42f5-8c63-9a1d709488dd",
   "metadata": {},
   "outputs": [],
   "source": [
    "#####################################################################\n",
    "#\n",
    "# write configs for dataflow job\n",
    "#\n",
    "#####################################################################"
   ]
  },
  {
   "cell_type": "code",
   "execution_count": null,
   "id": "81dc62b2-f431-4037-b5f1-ee220f183199",
   "metadata": {},
   "outputs": [],
   "source": [
    "#-------------------\n",
    "# bq_schema.json\n",
    "#-------------------"
   ]
  },
  {
   "cell_type": "code",
   "execution_count": null,
   "id": "a16e4072-0bae-4834-a62e-61adf65b65bd",
   "metadata": {},
   "outputs": [],
   "source": [
    "%%writefile {BQ_SCHEMA_FILENAME}\n",
    "\n",
    "{\n",
    "    \"BigQuery Schema\": [\n",
    "        {\n",
    "            \"name\": \"ID\",\n",
    "            \"type\": \"INTEGER\",\n",
    "            \"mode\": \"NULLABLE\"\n",
    "        },\n",
    "        {\n",
    "            \"name\": \"data\",\n",
    "            \"type\": \"INTEGER\",\n",
    "            \"mode\": \"NULLABLE\"\n",
    "        }\n",
    "    ]\n",
    "}"
   ]
  },
  {
   "cell_type": "code",
   "execution_count": null,
   "id": "616cde77-2b12-40ea-b3c2-63c171276417",
   "metadata": {},
   "outputs": [],
   "source": [
    "# copy file to GCS\n",
    "! gsutil cp {BQ_SCHEMA_FILENAME} {GCS_BUCKET_PATH_CONFIGS + BQ_SCHEMA_FILENAME}"
   ]
  },
  {
   "cell_type": "code",
   "execution_count": null,
   "id": "37408c31-6abb-45f4-b72a-d6244716c335",
   "metadata": {},
   "outputs": [],
   "source": [
    "#-------------------\n",
    "# bq_schema.json\n",
    "#-------------------"
   ]
  },
  {
   "cell_type": "code",
   "execution_count": null,
   "id": "b9c36ff4-ad10-408f-b569-2165c647ac95",
   "metadata": {},
   "outputs": [],
   "source": [
    "%%writefile {UDF_FILENAME}\n",
    "\n",
    "function transform(line) {\n",
    "    var jsonInput = JSON.parse(line);\n",
    "\n",
    "    var obj = new Object();\n",
    "    obj.ID = jsonInput.ID;\n",
    "    obj.data = jsonInput.data;\n",
    "\n",
    "    var jsonString = JSON.stringify(obj);\n",
    "    return jsonString;\n",
    "}"
   ]
  },
  {
   "cell_type": "code",
   "execution_count": null,
   "id": "b0ea26b2-24a3-492e-85cc-ab6ca25bab5d",
   "metadata": {},
   "outputs": [],
   "source": [
    "# copy file to GCS\n",
    "! gsutil cp {UDF_FILENAME} {GCS_BUCKET_PATH_CONFIGS + UDF_FILENAME}"
   ]
  },
  {
   "cell_type": "code",
   "execution_count": null,
   "id": "67cb55e9-079e-444a-adbd-6ec1459856b6",
   "metadata": {},
   "outputs": [],
   "source": [
    "#####################################################################\n",
    "#\n",
    "# create dataflow job\n",
    "#\n",
    "#####################################################################"
   ]
  },
  {
   "cell_type": "code",
   "execution_count": null,
   "id": "83313828-799f-4d58-81a1-34198ca9f5a3",
   "metadata": {},
   "outputs": [],
   "source": [
    "params = [f\"javascriptTextTransformGcsPath={GCS_BUCKET_PATH_CONFIGS + UDF_FILENAME}\"\n",
    "          ,f\"JSONPath={GCS_BUCKET_PATH_CONFIGS + BQ_SCHEMA_FILENAME}\"\n",
    "          ,f\"javascriptTextTransformFunctionName=transform\"\n",
    "          ,f\"outputTable={PROJECT_ID}:{BQ_DATASET}.{BQ_TABLE}\"\n",
    "          ,f\"inputFilePattern={GCS_BUCKET_PATH_DATA + file_pattern}\"\n",
    "          ,f\"bigQueryLoadingTemporaryDirectory={GCS_BUCKET_PATH_TMP}\"\n",
    "         ]\n",
    "\n",
    "p = \",\".join(params)\n",
    "params"
   ]
  },
  {
   "cell_type": "code",
   "execution_count": null,
   "id": "b832e7b9-ce33-4384-b5cc-9fee420800a4",
   "metadata": {},
   "outputs": [],
   "source": [
    "! gcloud dataflow jobs run df-13 \\\n",
    "  --gcs-location \"gs://dataflow-templates-us-central1/latest/GCS_Text_to_BigQuery\" \\\n",
    "  --region \"us-central1\" \\\n",
    "  --service-account-email \"sa-vertex-pipelines@ap-alto-ml-1000.iam.gserviceaccount.com\" \\\n",
    "  --staging-location \"gs://bkt-us-central1-dataflow-demo/staging\" \\\n",
    "  --network \"vpc-adam-default\" \\\n",
    "  --parameters {p}"
   ]
  },
  {
   "cell_type": "code",
   "execution_count": null,
   "id": "f7003840-38bb-4ca2-bec3-6946eac857c5",
   "metadata": {},
   "outputs": [],
   "source": [
    "#####################################################################\n",
    "#\n",
    "# view data in BigQuery\n",
    "#\n",
    "#####################################################################"
   ]
  },
  {
   "cell_type": "code",
   "execution_count": null,
   "id": "e7f372e0-d953-40cd-ae2b-d4a19a431889",
   "metadata": {},
   "outputs": [],
   "source": [
    "from google.cloud import bigquery"
   ]
  },
  {
   "cell_type": "code",
   "execution_count": null,
   "id": "825a7b8d-4e01-4e17-920d-c207c8b5a8f6",
   "metadata": {},
   "outputs": [],
   "source": [
    "# view the data in BQ\n",
    "client = bigquery.Client(project=PROJECT_ID)\n",
    "\n",
    "query = f\"SELECT * FROM `{BQ_DESTINATION}` LIMIT 5\"\n",
    "client.query(query).to_dataframe()"
   ]
  }
 ],
 "metadata": {
  "environment": {
   "kernel": "python3",
   "name": "common-cpu.m102",
   "type": "gcloud",
   "uri": "gcr.io/deeplearning-platform-release/base-cpu:m102"
  },
  "kernelspec": {
   "display_name": "Python 3",
   "language": "python",
   "name": "python3"
  },
  "language_info": {
   "codemirror_mode": {
    "name": "ipython",
    "version": 3
   },
   "file_extension": ".py",
   "mimetype": "text/x-python",
   "name": "python",
   "nbconvert_exporter": "python",
   "pygments_lexer": "ipython3",
   "version": "3.7.12"
  }
 },
 "nbformat": 4,
 "nbformat_minor": 5
}
